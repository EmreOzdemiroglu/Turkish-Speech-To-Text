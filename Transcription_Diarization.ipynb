{
  "nbformat": 4,
  "nbformat_minor": 0,
  "metadata": {
    "colab": {
      "provenance": [],
      "gpuType": "T4",
      "authorship_tag": "ABX9TyPD1L17ZQW35KlGrSXi9E6y",
      "include_colab_link": true
    },
    "kernelspec": {
      "name": "python3",
      "display_name": "Python 3"
    },
    "language_info": {
      "name": "python"
    },
    "accelerator": "GPU"
  },
  "cells": [
    {
      "cell_type": "markdown",
      "metadata": {
        "id": "view-in-github",
        "colab_type": "text"
      },
      "source": [
        "<a href=\"https://colab.research.google.com/github/EmreOzdemiroglu/transcription_diarization/blob/main/Transcription_Diarization.ipynb\" target=\"_parent\"><img src=\"https://colab.research.google.com/assets/colab-badge.svg\" alt=\"Open In Colab\"/></a>"
      ]
    },
    {
      "cell_type": "markdown",
      "source": [
        "- Change runtime to GPU. Runtime / Change runtime type\n",
        "- The transcript will be saved in Files, click on the folder icon on the left menu.\n"
      ],
      "metadata": {
        "id": "IlYnUFZ1FmmT"
      }
    },
    {
      "cell_type": "code",
      "source": [
        "!pip install -q git+https://github.com/openai/whisper.git > /dev/null\n",
        "!pip install -q git+https://github.com/pyannote/pyannote-audio > /dev/null\n",
        "!pip install torch numpy scikit-learn wave pydub\n",
        "!apt-get install -y ffmpeg"
      ],
      "metadata": {
        "colab": {
          "base_uri": "https://localhost:8080/"
        },
        "id": "LXCPgdsnJz4N",
        "outputId": "1609f5ba-451d-4eba-e0c9-3906c3c2bbbd"
      },
      "execution_count": 1,
      "outputs": [
        {
          "output_type": "stream",
          "name": "stdout",
          "text": [
            "Requirement already satisfied: torch in /usr/local/lib/python3.10/dist-packages (2.0.1+cu118)\n",
            "Requirement already satisfied: numpy in /usr/local/lib/python3.10/dist-packages (1.23.5)\n",
            "Requirement already satisfied: scikit-learn in /usr/local/lib/python3.10/dist-packages (1.2.2)\n",
            "Requirement already satisfied: wave in /usr/local/lib/python3.10/dist-packages (0.0.2)\n",
            "Requirement already satisfied: pydub in /usr/local/lib/python3.10/dist-packages (0.25.1)\n",
            "Requirement already satisfied: filelock in /usr/local/lib/python3.10/dist-packages (from torch) (3.12.2)\n",
            "Requirement already satisfied: typing-extensions in /usr/local/lib/python3.10/dist-packages (from torch) (4.7.1)\n",
            "Requirement already satisfied: sympy in /usr/local/lib/python3.10/dist-packages (from torch) (1.12)\n",
            "Requirement already satisfied: networkx in /usr/local/lib/python3.10/dist-packages (from torch) (3.1)\n",
            "Requirement already satisfied: jinja2 in /usr/local/lib/python3.10/dist-packages (from torch) (3.1.2)\n",
            "Requirement already satisfied: triton==2.0.0 in /usr/local/lib/python3.10/dist-packages (from torch) (2.0.0)\n",
            "Requirement already satisfied: cmake in /usr/local/lib/python3.10/dist-packages (from triton==2.0.0->torch) (3.27.2)\n",
            "Requirement already satisfied: lit in /usr/local/lib/python3.10/dist-packages (from triton==2.0.0->torch) (16.0.6)\n",
            "Requirement already satisfied: scipy>=1.3.2 in /usr/local/lib/python3.10/dist-packages (from scikit-learn) (1.10.1)\n",
            "Requirement already satisfied: joblib>=1.1.1 in /usr/local/lib/python3.10/dist-packages (from scikit-learn) (1.3.2)\n",
            "Requirement already satisfied: threadpoolctl>=2.0.0 in /usr/local/lib/python3.10/dist-packages (from scikit-learn) (3.2.0)\n",
            "Requirement already satisfied: MarkupSafe>=2.0 in /usr/local/lib/python3.10/dist-packages (from jinja2->torch) (2.1.3)\n",
            "Requirement already satisfied: mpmath>=0.19 in /usr/local/lib/python3.10/dist-packages (from sympy->torch) (1.3.0)\n",
            "Reading package lists... Done\n",
            "Building dependency tree... Done\n",
            "Reading state information... Done\n",
            "ffmpeg is already the newest version (7:4.4.2-0ubuntu0.22.04.1).\n",
            "0 upgraded, 0 newly installed, 0 to remove and 16 not upgraded.\n"
          ]
        }
      ]
    },
    {
      "cell_type": "code",
      "source": [
        "from google.colab import files\n",
        "uploaded = files.upload()\n",
        "path = next(iter(uploaded))"
      ],
      "metadata": {
        "colab": {
          "base_uri": "https://localhost:8080/",
          "height": 73
        },
        "id": "OTXhI4QKQVAe",
        "outputId": "56d3a56c-df8f-46c4-8493-c7a03c7a50d8"
      },
      "execution_count": 2,
      "outputs": [
        {
          "output_type": "display_data",
          "data": {
            "text/plain": [
              "<IPython.core.display.HTML object>"
            ],
            "text/html": [
              "\n",
              "     <input type=\"file\" id=\"files-5499bb08-ce6a-4413-8c09-149998db8b86\" name=\"files[]\" multiple disabled\n",
              "        style=\"border:none\" />\n",
              "     <output id=\"result-5499bb08-ce6a-4413-8c09-149998db8b86\">\n",
              "      Upload widget is only available when the cell has been executed in the\n",
              "      current browser session. Please rerun this cell to enable.\n",
              "      </output>\n",
              "      <script>// Copyright 2017 Google LLC\n",
              "//\n",
              "// Licensed under the Apache License, Version 2.0 (the \"License\");\n",
              "// you may not use this file except in compliance with the License.\n",
              "// You may obtain a copy of the License at\n",
              "//\n",
              "//      http://www.apache.org/licenses/LICENSE-2.0\n",
              "//\n",
              "// Unless required by applicable law or agreed to in writing, software\n",
              "// distributed under the License is distributed on an \"AS IS\" BASIS,\n",
              "// WITHOUT WARRANTIES OR CONDITIONS OF ANY KIND, either express or implied.\n",
              "// See the License for the specific language governing permissions and\n",
              "// limitations under the License.\n",
              "\n",
              "/**\n",
              " * @fileoverview Helpers for google.colab Python module.\n",
              " */\n",
              "(function(scope) {\n",
              "function span(text, styleAttributes = {}) {\n",
              "  const element = document.createElement('span');\n",
              "  element.textContent = text;\n",
              "  for (const key of Object.keys(styleAttributes)) {\n",
              "    element.style[key] = styleAttributes[key];\n",
              "  }\n",
              "  return element;\n",
              "}\n",
              "\n",
              "// Max number of bytes which will be uploaded at a time.\n",
              "const MAX_PAYLOAD_SIZE = 100 * 1024;\n",
              "\n",
              "function _uploadFiles(inputId, outputId) {\n",
              "  const steps = uploadFilesStep(inputId, outputId);\n",
              "  const outputElement = document.getElementById(outputId);\n",
              "  // Cache steps on the outputElement to make it available for the next call\n",
              "  // to uploadFilesContinue from Python.\n",
              "  outputElement.steps = steps;\n",
              "\n",
              "  return _uploadFilesContinue(outputId);\n",
              "}\n",
              "\n",
              "// This is roughly an async generator (not supported in the browser yet),\n",
              "// where there are multiple asynchronous steps and the Python side is going\n",
              "// to poll for completion of each step.\n",
              "// This uses a Promise to block the python side on completion of each step,\n",
              "// then passes the result of the previous step as the input to the next step.\n",
              "function _uploadFilesContinue(outputId) {\n",
              "  const outputElement = document.getElementById(outputId);\n",
              "  const steps = outputElement.steps;\n",
              "\n",
              "  const next = steps.next(outputElement.lastPromiseValue);\n",
              "  return Promise.resolve(next.value.promise).then((value) => {\n",
              "    // Cache the last promise value to make it available to the next\n",
              "    // step of the generator.\n",
              "    outputElement.lastPromiseValue = value;\n",
              "    return next.value.response;\n",
              "  });\n",
              "}\n",
              "\n",
              "/**\n",
              " * Generator function which is called between each async step of the upload\n",
              " * process.\n",
              " * @param {string} inputId Element ID of the input file picker element.\n",
              " * @param {string} outputId Element ID of the output display.\n",
              " * @return {!Iterable<!Object>} Iterable of next steps.\n",
              " */\n",
              "function* uploadFilesStep(inputId, outputId) {\n",
              "  const inputElement = document.getElementById(inputId);\n",
              "  inputElement.disabled = false;\n",
              "\n",
              "  const outputElement = document.getElementById(outputId);\n",
              "  outputElement.innerHTML = '';\n",
              "\n",
              "  const pickedPromise = new Promise((resolve) => {\n",
              "    inputElement.addEventListener('change', (e) => {\n",
              "      resolve(e.target.files);\n",
              "    });\n",
              "  });\n",
              "\n",
              "  const cancel = document.createElement('button');\n",
              "  inputElement.parentElement.appendChild(cancel);\n",
              "  cancel.textContent = 'Cancel upload';\n",
              "  const cancelPromise = new Promise((resolve) => {\n",
              "    cancel.onclick = () => {\n",
              "      resolve(null);\n",
              "    };\n",
              "  });\n",
              "\n",
              "  // Wait for the user to pick the files.\n",
              "  const files = yield {\n",
              "    promise: Promise.race([pickedPromise, cancelPromise]),\n",
              "    response: {\n",
              "      action: 'starting',\n",
              "    }\n",
              "  };\n",
              "\n",
              "  cancel.remove();\n",
              "\n",
              "  // Disable the input element since further picks are not allowed.\n",
              "  inputElement.disabled = true;\n",
              "\n",
              "  if (!files) {\n",
              "    return {\n",
              "      response: {\n",
              "        action: 'complete',\n",
              "      }\n",
              "    };\n",
              "  }\n",
              "\n",
              "  for (const file of files) {\n",
              "    const li = document.createElement('li');\n",
              "    li.append(span(file.name, {fontWeight: 'bold'}));\n",
              "    li.append(span(\n",
              "        `(${file.type || 'n/a'}) - ${file.size} bytes, ` +\n",
              "        `last modified: ${\n",
              "            file.lastModifiedDate ? file.lastModifiedDate.toLocaleDateString() :\n",
              "                                    'n/a'} - `));\n",
              "    const percent = span('0% done');\n",
              "    li.appendChild(percent);\n",
              "\n",
              "    outputElement.appendChild(li);\n",
              "\n",
              "    const fileDataPromise = new Promise((resolve) => {\n",
              "      const reader = new FileReader();\n",
              "      reader.onload = (e) => {\n",
              "        resolve(e.target.result);\n",
              "      };\n",
              "      reader.readAsArrayBuffer(file);\n",
              "    });\n",
              "    // Wait for the data to be ready.\n",
              "    let fileData = yield {\n",
              "      promise: fileDataPromise,\n",
              "      response: {\n",
              "        action: 'continue',\n",
              "      }\n",
              "    };\n",
              "\n",
              "    // Use a chunked sending to avoid message size limits. See b/62115660.\n",
              "    let position = 0;\n",
              "    do {\n",
              "      const length = Math.min(fileData.byteLength - position, MAX_PAYLOAD_SIZE);\n",
              "      const chunk = new Uint8Array(fileData, position, length);\n",
              "      position += length;\n",
              "\n",
              "      const base64 = btoa(String.fromCharCode.apply(null, chunk));\n",
              "      yield {\n",
              "        response: {\n",
              "          action: 'append',\n",
              "          file: file.name,\n",
              "          data: base64,\n",
              "        },\n",
              "      };\n",
              "\n",
              "      let percentDone = fileData.byteLength === 0 ?\n",
              "          100 :\n",
              "          Math.round((position / fileData.byteLength) * 100);\n",
              "      percent.textContent = `${percentDone}% done`;\n",
              "\n",
              "    } while (position < fileData.byteLength);\n",
              "  }\n",
              "\n",
              "  // All done.\n",
              "  yield {\n",
              "    response: {\n",
              "      action: 'complete',\n",
              "    }\n",
              "  };\n",
              "}\n",
              "\n",
              "scope.google = scope.google || {};\n",
              "scope.google.colab = scope.google.colab || {};\n",
              "scope.google.colab._files = {\n",
              "  _uploadFiles,\n",
              "  _uploadFilesContinue,\n",
              "};\n",
              "})(self);\n",
              "</script> "
            ]
          },
          "metadata": {}
        },
        {
          "output_type": "stream",
          "name": "stdout",
          "text": [
            "Saving videoplayback.mp3 to videoplayback (4).mp3\n"
          ]
        }
      ]
    },
    {
      "cell_type": "code",
      "source": [
        "import subprocess\n",
        "import whisper\n",
        "import datetime\n",
        "import torch\n",
        "import pyannote.audio\n",
        "from pydub import AudioSegment\n",
        "from pyannote.audio.pipelines.speaker_verification import PretrainedSpeakerEmbedding\n",
        "from pyannote.audio import Audio\n",
        "from pyannote.core import Segment\n",
        "import wave\n",
        "import contextlib\n",
        "from sklearn.cluster import AgglomerativeClustering\n",
        "import numpy as np"
      ],
      "metadata": {
        "id": "CJwWUm8mRUzB"
      },
      "execution_count": 3,
      "outputs": []
    },
    {
      "cell_type": "code",
      "execution_count": 4,
      "metadata": {
        "colab": {
          "base_uri": "https://localhost:8080/",
          "height": 35
        },
        "id": "SZvipjiYFj_T",
        "outputId": "f69ad440-a5d4-4daf-dd1a-e0e272171bb1"
      },
      "outputs": [
        {
          "output_type": "execute_result",
          "data": {
            "text/plain": [
              "'def convert_to_mono(file_path):\\n    sound = AudioSegment.from_file(input_path)\\n    sound = sound.set_channels(1)\\n    sound.export(input_path, format=\"wav\")'"
            ],
            "application/vnd.google.colaboratory.intrinsic+json": {
              "type": "string"
            }
          },
          "metadata": {},
          "execution_count": 4
        }
      ],
      "source": [
        "def convert_to_wav(file_path):\n",
        "    \"\"\"Convert file to WAV format if not already in that format.\"\"\"\n",
        "    if file_path[-3:] != 'wav':\n",
        "        subprocess.call(['ffmpeg', '-i', file_path, 'audio.wav', '-y'])\n",
        "        return 'audio.wav'\n",
        "    return file_path\n",
        "def match_audio_properties(path, target_sample_rate, target_channels):\n",
        "    audio = AudioSegment.from_mp3(path)\n",
        "    audio = audio.set_frame_rate(target_sample_rate)\n",
        "    audio = audio.set_channels(target_channels)\n",
        "\n",
        "    audio.export(path, format=\"mp3\")\n",
        "\n",
        "    print(f\"Yeni ses dosyası {path} oluşturuldu.\")\n",
        "\n",
        "\n",
        "# Fonksiyonu çağırarak ses dosyasını düzenle ve yeni dosyayı kaydet\n",
        "\"\"\"def convert_to_mono(file_path):\n",
        "    sound = AudioSegment.from_file(input_path)\n",
        "    sound = sound.set_channels(1)\n",
        "    sound.export(input_path, format=\"wav\")\"\"\""
      ]
    },
    {
      "cell_type": "code",
      "source": [
        "\n",
        "def load_embedding_model():\n",
        "    \"\"\"Load the speaker embedding model.\"\"\"\n",
        "    return PretrainedSpeakerEmbedding(\n",
        "        \"speechbrain/spkrec-ecapa-voxceleb\",\n",
        "        device=torch.device(\"cuda\")\n",
        "    )\n",
        "\n",
        "def get_file_duration(file_path):\n",
        "    \"\"\"Return the duration of the audio file.\"\"\"\n",
        "    with contextlib.closing(wave.open(file_path, 'r')) as f:\n",
        "        frames = f.getnframes()\n",
        "        rate = f.getframerate()\n",
        "        duration = frames / float(rate)\n",
        "    return duration\n",
        "\n",
        "def segment_embedding(audio_path, segment, duration, embedding_model):\n",
        "    \"\"\"Get the embedding for a given audio segment.\"\"\"\n",
        "    start = segment[\"start\"]\n",
        "    end = min(duration, segment[\"end\"])\n",
        "    clip = Segment(start, end)\n",
        "    waveform, _ = Audio().crop(audio_path, clip)\n",
        "    return embedding_model(waveform[None])\n",
        "\n",
        "def get_embeddings(audio_path, segments, duration, embedding_model):\n",
        "    \"\"\"Generate embeddings for each segment.\"\"\"\n",
        "    embeddings = np.zeros(shape=(len(segments), 192))\n",
        "    for i, segment in enumerate(segments):\n",
        "        embeddings[i] = segment_embedding(audio_path, segment, duration, embedding_model)\n",
        "    return np.nan_to_num(embeddings)\n"
      ],
      "metadata": {
        "id": "UVb3-O0oJYzR"
      },
      "execution_count": 5,
      "outputs": []
    },
    {
      "cell_type": "code",
      "source": [
        "\n",
        "def write_transcript(segments):\n",
        "    \"\"\"Write the transcript to a file.\"\"\"\n",
        "    with open(\"transcript.txt\", \"w\") as f:\n",
        "        for (i, segment) in enumerate(segments):\n",
        "            if i == 0 or segments[i - 1][\"speaker\"] != segment[\"speaker\"]:\n",
        "                f.write(\"\\n\" + segment[\"speaker\"] + ' ' + str(datetime.timedelta(seconds=round(segment[\"start\"]))) + '\\n')\n",
        "            f.write(segment[\"text\"][1:] + ' ')\n",
        "\n",
        "def transcribe_audio(path: str):\n",
        "    \"\"\"\n",
        "    Transcribe the audio file and return the transcript.\n",
        "\n",
        "    Args:\n",
        "    - path (str): Path to the audio file.\n",
        "\n",
        "    Returns:\n",
        "    - str: Path to the transcript file.\n",
        "    \"\"\"\n",
        "    # Convert the audio_properties\n",
        "    match_audio_properties(path,8000,1)\n",
        "\n",
        "    # Convert the audio file to WAV format if required\n",
        "    path = convert_to_wav(path)\n",
        "\n",
        "    # Load the Whisper model and transcribe the audio\n",
        "    model = whisper.load_model('large')\n",
        "    result = model.transcribe(path)\n",
        "    segments = result[\"segments\"]\n",
        "\n",
        "    # Get the duration of the audio file and load the embedding model\n",
        "    duration = get_file_duration(path)\n",
        "    embedding_model = load_embedding_model()\n",
        "    embeddings = get_embeddings(path, segments, duration, embedding_model)\n",
        "\n",
        "    # Perform clustering to identify speakers\n",
        "    clustering = AgglomerativeClustering(2).fit(embeddings)\n",
        "    labels = clustering.labels_\n",
        "    for i in range(len(segments)):\n",
        "        segments[i][\"speaker\"] = 'SPEAKER ' + str(labels[i] + 1)\n",
        "\n",
        "    # Write the transcript to a file\n",
        "    transcript_file = path.rsplit('.', 1)[0] + '_transcription.txt'\n",
        "    with open(transcript_file, \"w\") as f:\n",
        "        for (i, segment) in enumerate(segments):\n",
        "            if i == 0 or segments[i - 1][\"speaker\"] != segment[\"speaker\"]:\n",
        "                f.write(\"\\n\" + segment[\"speaker\"] + ' ' + str(datetime.timedelta(seconds=round(segment[\"start\"]))) + '\\n')\n",
        "            f.write(segment[\"text\"][1:] + ' ')\n",
        "\n",
        "    return transcript_file\n",
        "transcribe_audio(path)"
      ],
      "metadata": {
        "colab": {
          "base_uri": "https://localhost:8080/",
          "height": 53
        },
        "id": "TQkzmsztIgzZ",
        "outputId": "3f8482fc-23ec-4fb2-c2ce-b029706eaf1a"
      },
      "execution_count": 6,
      "outputs": [
        {
          "output_type": "stream",
          "name": "stdout",
          "text": [
            "Yeni ses dosyası videoplayback (4).mp3 oluşturuldu.\n"
          ]
        },
        {
          "output_type": "execute_result",
          "data": {
            "text/plain": [
              "'audio_transcription.txt'"
            ],
            "application/vnd.google.colaboratory.intrinsic+json": {
              "type": "string"
            }
          },
          "metadata": {},
          "execution_count": 6
        }
      ]
    },
    {
      "cell_type": "code",
      "source": [],
      "metadata": {
        "id": "udE0_HHcFzbY"
      },
      "execution_count": 6,
      "outputs": []
    }
  ]
}